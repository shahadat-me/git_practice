{
 "cells": [
  {
   "cell_type": "code",
   "execution_count": 1,
   "id": "8591ffa9-000c-47ef-abb2-d03653e64a33",
   "metadata": {},
   "outputs": [
    {
     "data": {
      "text/plain": [
       "2"
      ]
     },
     "execution_count": 1,
     "metadata": {},
     "output_type": "execute_result"
    }
   ],
   "source": [
    "1+1"
   ]
  },
  {
   "cell_type": "code",
   "execution_count": 5,
   "id": "7e95e010-e042-4bd0-8368-c34a5cbacff7",
   "metadata": {},
   "outputs": [],
   "source": [
    "f_name = 'Shahadat'\n",
    "l_name = 'Hossain'"
   ]
  },
  {
   "cell_type": "code",
   "execution_count": 7,
   "id": "e582b3b1-6ff8-4012-a689-462a1188b245",
   "metadata": {},
   "outputs": [
    {
     "name": "stdout",
     "output_type": "stream",
     "text": [
      "my first name is Shahadat and my last name is Hossain\n"
     ]
    }
   ],
   "source": [
    "print('my first name is {f} and my last name is {l}'.format(f=f_name,l=l_name))"
   ]
  },
  {
   "cell_type": "code",
   "execution_count": 9,
   "id": "386b68a3-8cea-4519-83df-053a74ce658e",
   "metadata": {},
   "outputs": [
    {
     "data": {
      "text/plain": [
       "8"
      ]
     },
     "execution_count": 9,
     "metadata": {},
     "output_type": "execute_result"
    }
   ],
   "source": [
    "len('shaahdat')"
   ]
  },
  {
   "cell_type": "code",
   "execution_count": 11,
   "id": "7f6ab52d-f4b3-49d9-a35e-7d1ccd99a583",
   "metadata": {},
   "outputs": [],
   "source": [
    "list1 = ['a','b',1,2,3]"
   ]
  },
  {
   "cell_type": "code",
   "execution_count": 12,
   "id": "40ee0393-58c8-4115-909d-76a138c961db",
   "metadata": {},
   "outputs": [],
   "source": [
    "list1.append('Shahadat')"
   ]
  },
  {
   "cell_type": "code",
   "execution_count": 13,
   "id": "9832e1bd-c7e3-42d1-a776-efacc6427112",
   "metadata": {},
   "outputs": [
    {
     "data": {
      "text/plain": [
       "['a', 'b', 1, 2, 3, 'Shahadat']"
      ]
     },
     "execution_count": 13,
     "metadata": {},
     "output_type": "execute_result"
    }
   ],
   "source": [
    "list1"
   ]
  },
  {
   "cell_type": "code",
   "execution_count": 14,
   "id": "e61b4952-0128-4fde-9c1d-63c6be8a2cd3",
   "metadata": {},
   "outputs": [],
   "source": [
    "list1.insert(3,44)"
   ]
  },
  {
   "cell_type": "code",
   "execution_count": 15,
   "id": "b8ba82a2-e8bc-42fe-9156-0de79e78b652",
   "metadata": {},
   "outputs": [
    {
     "data": {
      "text/plain": [
       "['a', 'b', 1, 44, 2, 3, 'Shahadat']"
      ]
     },
     "execution_count": 15,
     "metadata": {},
     "output_type": "execute_result"
    }
   ],
   "source": [
    "list1"
   ]
  },
  {
   "cell_type": "code",
   "execution_count": 18,
   "id": "f371918c-6299-4a08-8ca4-95f9b915eb11",
   "metadata": {},
   "outputs": [
    {
     "data": {
      "text/plain": [
       "6"
      ]
     },
     "execution_count": 18,
     "metadata": {},
     "output_type": "execute_result"
    }
   ],
   "source": [
    "list1.extend([4,5,6])\n",
    "list1.pop()"
   ]
  },
  {
   "cell_type": "code",
   "execution_count": 17,
   "id": "aebec303-0b8a-4881-9499-342c210e2d66",
   "metadata": {},
   "outputs": [
    {
     "data": {
      "text/plain": [
       "['a', 'b', 1, 44, 2, 3, 'Shahadat', 4, 5, 6]"
      ]
     },
     "execution_count": 17,
     "metadata": {},
     "output_type": "execute_result"
    }
   ],
   "source": [
    "list1"
   ]
  },
  {
   "cell_type": "code",
   "execution_count": null,
   "id": "c18899b5-69c1-4652-8081-a5e08ba92a9a",
   "metadata": {},
   "outputs": [],
   "source": [
    "list1.extend"
   ]
  }
 ],
 "metadata": {
  "kernelspec": {
   "display_name": "Python 3 (ipykernel)",
   "language": "python",
   "name": "python3"
  },
  "language_info": {
   "codemirror_mode": {
    "name": "ipython",
    "version": 3
   },
   "file_extension": ".py",
   "mimetype": "text/x-python",
   "name": "python",
   "nbconvert_exporter": "python",
   "pygments_lexer": "ipython3",
   "version": "3.11.7"
  },
  "widgets": {
   "application/vnd.jupyter.widget-state+json": {
    "state": {},
    "version_major": 2,
    "version_minor": 0
   }
  }
 },
 "nbformat": 4,
 "nbformat_minor": 5
}
